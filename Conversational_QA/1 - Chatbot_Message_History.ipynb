{
 "cells": [
  {
   "cell_type": "markdown",
   "id": "7eb00217",
   "metadata": {},
   "source": [
    "## Conversational QA Chatbot with Message History"
   ]
  },
  {
   "cell_type": "code",
   "execution_count": 1,
   "id": "ff0f8d36",
   "metadata": {},
   "outputs": [],
   "source": [
    "import os\n",
    "from dotenv import load_dotenv\n",
    "from langchain_groq import ChatGroq\n",
    "\n",
    "load_dotenv()\n",
    "groq_api_key = os.getenv(\"GROQ_API_KEY\")\n",
    "os.environ[\"USER_AGENT\"] = os.getenv(\"USER_AGENT\")"
   ]
  },
  {
   "cell_type": "code",
   "execution_count": 2,
   "id": "ff1eceff",
   "metadata": {},
   "outputs": [],
   "source": [
    "llm = ChatGroq(groq_api_key=groq_api_key, model=\"Llama3-8b-8192\")"
   ]
  },
  {
   "cell_type": "code",
   "execution_count": 3,
   "id": "3faf5019",
   "metadata": {},
   "outputs": [
    {
     "data": {
      "text/plain": [
       "ChatGroq(client=<groq.resources.chat.completions.Completions object at 0x117e4b790>, async_client=<groq.resources.chat.completions.AsyncCompletions object at 0x117f97a90>, model_name='Llama3-8b-8192', model_kwargs={}, groq_api_key=SecretStr('**********'))"
      ]
     },
     "execution_count": 3,
     "metadata": {},
     "output_type": "execute_result"
    }
   ],
   "source": [
    "llm"
   ]
  },
  {
   "cell_type": "code",
   "execution_count": 6,
   "id": "698463f8",
   "metadata": {},
   "outputs": [],
   "source": [
    "os.environ['HF_TOKEN'] = os.getenv(\"HF_TOKEN\")\n",
    "from langchain_huggingface import HuggingFaceEmbeddings\n",
    "embeddings = HuggingFaceEmbeddings(model_name= \"all-MiniLM-L6-v2\")"
   ]
  },
  {
   "cell_type": "code",
   "execution_count": 8,
   "id": "a4b16dcd",
   "metadata": {},
   "outputs": [],
   "source": [
    "from langchain_community.document_loaders import WebBaseLoader\n",
    "from langchain_text_splitters import RecursiveCharacterTextSplitter\n",
    "from langchain_core.prompts import ChatPromptTemplate\n",
    "from langchain_chroma import Chroma\n",
    "from langchain.chains import create_retrieval_chain\n",
    "from langchain.chains.combine_documents import create_stuff_documents_chain"
   ]
  },
  {
   "cell_type": "code",
   "execution_count": 9,
   "id": "4fcc1bf9",
   "metadata": {},
   "outputs": [
    {
     "data": {
      "text/plain": [
       "[Document(metadata={'source': 'https://testfully.io/blog/rest-api/'}, page_content=' API Development: A 101 Guide to RESTful APIs Explore the comprehensive guide to RESTful APIs, covering definitions, examples, best practices, and FAQs for developers. Dive into the world of modern web development with our in-depth blog post.  RESTful APIs are a key component of web development, allowing for seamless interactions between web applications. They are a development of existing APIs, providing a simpler, more efficient web communication approach. RESTful APIs use HTTP methods (GET, POST, PUT, and DELETE) to perform resource operations, following the Representational State Transfer (REST) principles. This architectural style has become synonymous with modern web services, allowing for scalability, flexibility, and the efficient integration of diverse systems.\\nThis blog post explains the definition, importance, and practical applications of RESTful APIs using examples such as Dropbox for file management and Twitter for social media integration. It seeks to provide a comprehensive understanding of their role in developing responsive, user-friendly apps, emphasizing their critical position in the digital ecosystem.\\nWhat is a RESTful API?\\nRESTful API is an application programming interface that follows the Representational State Transfer (REST), an architectural style defined by Roy Fielding in his 2000 PhD dissertation. REST is fundamentally about resources, which can be any kind of information or data. These resources are manipulated via HTTP methods—the web’s universal language—so RESTful APIs are very flexible and compatible with existing web infrastructure.\\nArchitectural Constraints of REST\\nRESTful APIs are designed around six key constraints which ensure they remain lightweight, maintainable, and scalable:\\n\\nClient-Server Architecture: Separation of concerns is achieved by dividing user interface and data storage concerns, improving user interface portability across many platforms, and scalability by simplifying server components.\\nStateless: Every request from client to server must include all of the information required to understand and complete the request. The server does not store any session information.\\nCacheable: Resources should be cacheable in order to improve network efficiency and user experience. Some client-server interactions can be reduced or eliminated entirely by proper caching management.\\nUniform Interface: A uniform interface simplifies and separates the architecture, allowing each component to evolve independently. This includes using conventional HTTP methods.\\nLayered System: A client cannot usually identify whether it is connected directly to the end server or through an intermediary along the way. This promotes security, scalability, and management.\\nCode on Demand (Optional): Servers can transfer executable code to a client to temporarily extend or customize its functionality.\\n\\nHTTP Methods in RESTful APIs\\nRESTful APIs use HTTP methods as operations to interact with resources. Here’s a basic review of the most common methods:\\nHTTP MethodActionDescriptionGETReadRetrieves a resource or a list of resources.POSTCreateCreates a new resource.PUTUpdate/ReplaceUpdates an existing resource or creates a new one if it does not exist.DELETEDeleteDeletes a resource.PATCHPartial Update/ModifyApplies partial modifications to a resource.\\nThese methods provide a robust, standardized way of interacting with web resources, allowing developers to quickly perform CRUD (Create, Read, Update, Delete) operations.\\nExamples of RESTful APIs in Action\\nReal-world examples help to better understand the variety and efficiency of RESTful APIs. Let’s look at how they’re used in two popular services: cloud storage like Dropbox and social media integration via the Twitter API.\\nExample 1: Cloud Storage Service - Dropbox API\\nDropbox’s API allows developers to integrate its cloud storage service into their own apps, granting access to features such as file storage, sharing, and backup. For example, a developer can use the RESTful API to upload files to Dropbox using the POST method programmatically, receive a list of files with GET, update file details with PUT, or delete a file using the DELETE method. This simplifies file management across applications, making Dropbox an essential tool for developers who require robust, scalable cloud storage solutions.\\nExample 2: Social Media Integration - Twitter API\\nThe Twitter API is another example of RESTful APIs in action. It allows apps to interact with almost every aspect of Twitter, such as viewing timelines, managing tweets, and even automating posting. For example, to fetch the latest tweets from a specific account, make a GET request to the Twitter API. This allows apps to incorporate dynamic material directly from Twitter, increasing user engagement and content relevancy.\\nThe platform might provide a RESTful API with endpoints for:\\n\\nCreating a Tweet (using an HTTP POST request)\\nRetrieving a list of Tweets (using an HTTP GET request)\\nDelete a Tweet (using HTTP DELETE request)\\n\\nBenefits of Using RESTful APIs\\nRESTful APIs provide several essential benefits, including scalability, flexibility, portability, and independence. These advantages are primarily due to REST’s stateless nature and reliance on the HTTP protocol.\\n\\nScalability: Because RESTful APIs are stateless and can cache responses, the amount of data transferred between client and server is greatly reduced, improving web service scalability.\\nFlexibility and Portability: RESTful APIs communicate via standard HTTP protocols, making it easy to integrate with different platforms and languages. This universality allows you to develop applications for multiple platforms with minimum adjustments.\\nEfficiency and Speed: RESTful APIs use lightweight formats such as JSON to enable fast processing and reduce server load, leading to quicker response times and more efficient applications.\\nIndependence: RESTful APIs’ separation of the client and server allows for independent development and deployment, resulting in quicker development cycles and easier maintenance.\\n\\nAn example of scalability can be observed in how RESTful APIs handle client requests. Because it is stateless, each request from a client has all of the information required to process it, allowing the server to respond more efficiently and serve more clients simultaneously.\\nChallenges in Using RESTful APIs\\nWhile RESTful APIs have many advantages, they also create challenges that developers must overcome. Understanding these challenges is critical to successful API design and implementation.\\nStatelessness and Session Management\\n\\nOverview: RESTful APIs are designed to be stateless, which means that each request from the client to the server must include all of the information the server requires to fulfil the request. While this improves scalability and reliability, it complicates session management, particularly for applications that require user authentication or transaction states.\\nStrategies: Implementing tokens or cookies that contain session states can help solve this problem. Token-based authentication techniques such as JWT allow the server to verify the user’s identity without maintaining a session.\\nExample: Imagine an e-commerce application that has to track a user’s shopping cart across multiple requests. Because REST is stateless, the server does not store the user’s cart. A token-based solution, such as JWT (JSON Web Tokens), can be utilized, in which the server generates a token after the user logs in, and the client provides it with each request to authenticate and track the session.\\n\\nSecurity\\n\\nOverview: Security is critical, especially when sensitive data is involved. RESTful APIs are exposed over the internet, making them vulnerable to various security threats such as man-in-the-middle attacks, SQL injection, and cross-site request forgery.\\nStrategies: Using HTTPS is a vital step. Aside from that, employing OAuth for authorization, sanitizing and verifying all inputs, and implementing rate limits can all contribute to the security of APIs.\\nExample: To secure a RESTful API from unauthorized access, you may use OAuth 2.0 for authorization. When a user logs in, the server issues an access token, which the client must include in subsequent HTTP header requests to access protected resources.\\n\\nHandling Large Data Sets\\n\\nOverview: Efficiently managing huge amounts of data, avoiding over- or under-fetching, and keeping the API responsive can be difficult.\\nStrategies: Pagination, filtering, and sorting are essential techniques for managing data transfer efficiently.\\nExample: When dealing with large data sets, such as retrieving all posts in a social media app, pagination is an efficient way to limit the amount of data returned in a single request.\\n\\n// Example HTTP request for pagination\\nGET /api/posts?page=2&limit=10 HTTP/1.1\\nHost: example.com\\nVersioning\\n\\nOverview: Changes to APIs may cause compatibility issues with existing clients. Managing these changes while maintaining service requires careful versioning strategies.\\nStrategies: Versioning can be handled in the URL path, query parameters, or headers. Each method has advantages and disadvantages, and the best option is determined by the API’s specific needs and the nature of future changes.\\nExample: If you introduce a breaking change to the API, you can use versioning to avoid disruption for existing clients. URL versioning is a common approach.\\n\\n// First version\\nGET /api/v1/posts HTTP/1.1\\nHost: example.com\\n\\n// Updated version\\nGET /api/v2/posts HTTP/1.1\\nHost: example.com\\nThis allows clients to choose which version of the API to interact with.\\nError Handling and Messaging\\n\\nOverview: Clear, meaningful error messages and proper usage of HTTP status codes can significantly improve the developer experience and simplicity of troubleshooting.\\nStrategies: Standardizing error responses and including detailed messages can help developers understand and fix issues faster. It is also critical to use proper HTTP status codes for different error types (4xx for client errors and 5xx for server errors).\\nExample: Providing clear error messages helps clients understand what went wrong. For example, if a user tries to access a resource that does not exist, the API should return a 404 status code and a descriptive message.\\n\\n// Example 404 error response\\n{\\n  \"status\": 404,\\n  \"message\": \"The requested post was not found.\"\\n}\\nDocumentation\\n\\nOverview: Comprehensive and up-to-date documentation is critical to any API’s success. However, maintaining documentation as the API evolves can be difficult.\\nStrategies: Automated tools like Swagger (OpenAPI) can generate documentation directly from the API’s codebase, keeping it in sync with the actual API implementation.\\n\\nHow to Perform Basic Operations\\nUnderstanding HTTP methods and how they correspond to CRUD operations is required when performing basic RESTful API operations. The following is a detailed example of sending a GET request to retrieve data.\\nFetching Data Using a GET Request\\nTo retrieve data from a RESTful API, send a GET request. This is often done to read data without changing the resource’s state.\\nExample: Fetching a User’s Details\\nGET /api/users/1 HTTP/1.1\\nHost: example.com\\nThis request would fetch the details of the user with an ID of 1. The server response might look like this:\\nHTTP/1.1 200 OK\\nContent-Type: application/json\\n\\n{\\n  \"id\": 1,\\n  \"name\": \"John Doe\",\\n  \"email\": \"john@example.com\"\\n}\\nThe response has a 200 OK status code, which indicates success, and the body provides the user’s information in JSON format.\\nWhen to Use RESTful APIs\\nRESTful APIs are appropriate for web applications that use standard web protocols for communication. Their use is especially helpful in scenarios that need scalability, flexibility, and stateless operations.\\n\\nIdeal for applications that require CRUD operations.\\nSuitable for cloud services, mobile applications, and IoT devices, where efficient communication over the web is crucial.\\n\\nRESTful APIs vs. Other APIs (SOAP)\\nComparing RESTful APIs to SOAP (Simple Object Access Protocol) APIs highlights the differences in complexity, flexibility, and use cases.\\nFeatureRESTful APISOAP APIProtocolHTTPHTTP, SMTP, TCP, and moreData FormatJSON, XML, YAMLXMLDesignResource-orientedAction-orientedUse CasesWeb services, public APIsEnterprise, financial services\\nRESTful APIs are simpler and more flexible, making them a popular choice for web services and mobile applications. With its high standards and security features, SOAP is often used in enterprise and financial applications requiring formal contracts.\\nReal-world Applications of RESTful APIs\\nRESTful APIs have become the foundation of modern web services due to their scalability, ease of use, and compatibility with web standards. They are widely used in various industries, increasing the capability and reach of web applications.\\nCloud Services\\nCloud platforms such as Amazon Web Services (AWS) use RESTful APIs to provide a wide range of services that can be easily incorporated into any application. For example, AWS’s S3 service allows for storing and retrieving any amount of data at any time using simple API calls.\\nMobile Applications\\nMobile apps often rely on RESTful APIs for data communication. A social media app, for instance, might use RESTful APIs to fetch user data, update profiles, post messages, or retrieve news feeds.\\nInternet of Things (IoT)\\nIoT devices use RESTful APIs to communicate with the cloud, other devices, or third-party services. This enables features like remote control, status updates, and data collection, paving the way for smarter, interconnected devices.\\nGuidelines and Best Practices for RESTful API Development\\nDeveloping RESTful APIs involves more than just understanding HTTP methods and CRUD operations. Following best practices ensures that your APIs are efficient, secure, and easy to use.\\nAdhere to REST Principles\\nEnsure your API is stateless, uses proper HTTP methods, and follows the uniform interface principle. This consistency makes your API more predictable and easier to understand.\\nUse HTTP Status Codes Correctly\\nHTTP status codes provide immediate feedback about the status of an API request. Using them correctly helps clients to handle responses and errors more efficiently.\\nExample: Using HTTP Status Codes\\n// Successful GET request\\n{\\n  \"status\": 200,\\n  \"message\": \"User fetched successfully.\"\\n}\\n\\n// Failed POST request\\n{\\n  \"status\": 400,\\n  \"message\": \"Missing user name.\"\\n}\\nAPI Versioning\\nVersion your API to prevent breaking changes from affecting existing users. Common approaches include adding a version number to the URL and using custom request headers.\\nExample: Versioning via URL\\nGET /api/v2/users/1 HTTP/1.1\\nHost: example.com\\nSecurity\\nImplement authentication, authorization, and encryption to protect your API and its users. OAuth is a popular protocol for secure API access.\\nEfficient Data Handling\\nUse compression to reduce the size of your responses and support caching to reduce load times and server requests.\\nAuthentication Methods in RESTful APIs\\nApi authentication is critical in protecting API resources. OAuth, API keys, and basic authentication are all common techniques, each with a different level of security and use case.\\nHere are some of the most used authentication methods:\\nOAuth\\nOAuth enables safe delegated access, allowing applications to act on users’ behalf without accessing their passwords.\\nAPI Keys\\nAPI keys are a simple and popular method for controlling access to less sensitive data.\\nBasic Authentication\\nBasic authentication is simple but less secure, as it transmits base64-encoded credentials. It is suitable for internal, low-risk applications.\\nTable: Authentication Methods\\nMethodUse CasesSecurity LevelOAuthDelegated access for web and mobile appsHighAPI KeysSimple access control for APIsMediumBasic AuthenticationInternal or low-risk applicationsLow\\nUsing appropriate authentication methods ensures that only authorized users have access to your API, which protects sensitive data and functionalities.\\nRESTful APIs vs. GraphQL: A Quick Comparison\\nWhile RESTful APIs have long been the standard for designing web services, GraphQL has emerged as a powerful alternative that provides a more efficient and flexible data retrieval method. Here is a quick comparison.\\nRESTful APIs\\n\\nArchitectural Style: Based on HTTP and REST principles, using URL endpoints to access resources.\\nData Retrieval: Clients receive a complete set of data from a single endpoint, which may result in over-fetching or under-fetching.\\nVersioning: Changes often require new endpoints or versions.\\nBest For: Applications that benefit from a standardized protocol and where control over the network requests is important.\\n\\nGraphQL\\nQuery Language: Allows clients to query exactly what they need, avoiding over-fetching and under-fetching.\\n\\nData Retrieval: Clients can retrieve data from multiple resources in a single request.\\nVersioning: Changes to the schema do not require versioning; clients use only the fields they need.\\nBest For: Complex applications with rapidly changing client requirements and where minimizing data transfer is critical.\\n\\nKey Takeaway: Your application’s specific requirements will determine whether you use RESTful APIs or GraphQL. REST is ideal for applications that require simple, cacheable requests to a defined set of resources. In contrast, GraphQL is more efficient and flexible for applications with complicated data requirements, allowing clients to tailor requests to their exact needs.\\nAlternatives to RESTful APIs\\nWhile RESTful APIs have become a standard for web development, several alternatives offer unique features and advantages suited to specific use cases. Here are some of the most popular alternatives:\\ngRPC\\nGoogle created gRPC, an open-source, high-performance framework with features like load balancing and authentication. It uses HTTP/2 for transport and Protocol Buffers for the interface description language. It is ideal for scenarios requiring real-time communication between microservices due to its efficiency and support for bi-directional streaming.\\nWebSockets\\nWebSockets offer a single, persistent connection with full-duplex communication channels. Unlike RESTful APIs, which follow a request-response model, WebSockets enable real-time interaction, making them perfect for applications that require instant updates, such as chat applications, online gaming, or live sports updates.\\nGraphQL\\nFacebook created GraphQL, an API query language that lets users request just the data they need. This flexibility helps prevent over-fetching and under-fetching of data, making it highly efficient. GraphQL is particularly useful for applications with complex data relationships and requirements, such as social media platforms and e-commerce sites.\\nSOAP\\nThe Simple Object Access Protocol, or SOAP, is a web service protocol that uses XML to exchange structured data. It is known for being robust and extensible, and it can handle complicated operations. In business settings like financial services and telecommunications, where security and\\xa0transactions\\xa0are crucial, SOAP is frequently used.\\nEach of these alternatives offers distinct advantages, and the choice between them depends on the specific needs of the application, including performance requirements, real-time capabilities, and the complexity of the data being handled.\\nConclusion\\nRESTful APIs are the foundation of modern web development, allowing for seamless integration and interaction of various web services. Their adaptability and efficiency make them ideal for various applications, including cloud services, mobile apps, and IoT devices. By adhering to REST principles and best practices in API development, you can build robust, scalable, and secure web services that meet the changing demands of users and enterprises alike.    Frequently Asked Questions We got an answer for your questions      What is a RESTful API? A RESTful API is an application programming interface that follows the Representational State Transfer (REST) principles. It enables interaction with RESTful web services using standard HTTP methods such as GET, POST, PUT, and DELETE.    Why are RESTful APIs important in web development? RESTful APIs are crucial because they provide a standardized way for applications to communicate over the web. They enable scalable, flexible, and efficient data exchange and integration between different services and platforms, making them essential for modern web development.    How do RESTful APIs handle security? RESTful APIs implement various security measures, including authentication (e.g., OAuth, API keys, basic authentication), authorization, and secure data transmission (e.g., HTTPS). These practices ensure that only authorized users can access the API and that data is protected during transfer.    Can RESTful APIs be used for mobile applications? Yes, RESTful APIs are widely used in mobile application development. They allow mobile apps to retrieve and send data to a server over the internet in a lightweight and efficient manner, enhancing the app’s functionality and user experience.    What are the challenges of using RESTful APIs? While RESTful APIs offer numerous benefits, they also present challenges such as ensuring security, handling versioning, and maintaining consistency and performance at scale. Developers must address these challenges through careful API design and implementation strategies.    How do RESTful APIs differ from SOAP APIs? RESTful APIs and SOAP (Simple Object Access Protocol) APIs differ in their architecture, standards, and use cases. REST is resource-oriented, using standard HTTP methods and typically communicating in JSON or XML. SOAP is action-oriented, follows strict standards, and only communicates in XML. RESTful APIs are generally considered more flexible and easier to work with, especially for web services.    What are the best practices for RESTful API development? Best practices include adhering to REST principles, using HTTP status codes appropriately, implementing versioning, ensuring security, and optimizing performance through efficient data handling and caching. Following these practices helps in developing reliable, scalable, and secure RESTful APIs.        ')]"
      ]
     },
     "execution_count": 9,
     "metadata": {},
     "output_type": "execute_result"
    }
   ],
   "source": [
    "import bs4\n",
    "loader = WebBaseLoader(\n",
    "    web_paths = (\"https://testfully.io/blog/rest-api/\",),\n",
    "    bs_kwargs = dict(\n",
    "        parse_only = bs4.SoupStrainer(\n",
    "            class_ = (\"text-3xl font-semibold text-gray-950 pt-4 pb-6 font-brockmann tracking-tighter\", \"text-lg text-gray-500\", \"w-9/12\")\n",
    "        )\n",
    "    ),\n",
    ")\n",
    "\n",
    "docs = loader.load()\n",
    "docs"
   ]
  },
  {
   "cell_type": "code",
   "execution_count": 10,
   "id": "940b3e01",
   "metadata": {},
   "outputs": [],
   "source": [
    "text_splitter = RecursiveCharacterTextSplitter(chunk_size = 1000, chunk_overlap = 200)\n",
    "splits = text_splitter.split_documents(docs)"
   ]
  },
  {
   "cell_type": "code",
   "execution_count": 15,
   "id": "3697f237",
   "metadata": {},
   "outputs": [],
   "source": [
    "vector_store = Chroma.from_documents(documents=splits, embedding=embeddings)"
   ]
  },
  {
   "cell_type": "code",
   "execution_count": 16,
   "id": "bef6c44e",
   "metadata": {},
   "outputs": [
    {
     "data": {
      "text/plain": [
       "VectorStoreRetriever(tags=['Chroma', 'HuggingFaceEmbeddings'], vectorstore=<langchain_chroma.vectorstores.Chroma object at 0x19cf8f490>, search_kwargs={})"
      ]
     },
     "execution_count": 16,
     "metadata": {},
     "output_type": "execute_result"
    }
   ],
   "source": [
    "retriever = vector_store.as_retriever()\n",
    "retriever"
   ]
  },
  {
   "cell_type": "code",
   "execution_count": null,
   "id": "32be404a",
   "metadata": {},
   "outputs": [],
   "source": [
    "##Prompt Template\n",
    "system_prompt = (\n",
    "    \"Act as an assistant for Question-Answering tasks.\"\n",
    "    \"Use the retrieved context to answer user's questions.\"\n",
    "    \"If you don't have enough context to answer, let the user know that you are not sure.\"\n",
    "    \"Use no more than three sentences while writing an answer.\"\n",
    "    \"\\n\\n\"\n",
    "    \"{context}\"\n",
    ")\n",
    "\n",
    "prompt = ChatPromptTemplate.from_messages([\n",
    "    (\"system\", system_prompt),\n",
    "    (\"human\", \"{input}\")\n",
    "]\n",
    ")"
   ]
  },
  {
   "cell_type": "code",
   "execution_count": 19,
   "id": "d092442c",
   "metadata": {},
   "outputs": [],
   "source": [
    "qa_chain = create_stuff_documents_chain(prompt=prompt, llm=llm)\n",
    "rag_chain = create_retrieval_chain(retriever,qa_chain)"
   ]
  },
  {
   "cell_type": "code",
   "execution_count": 23,
   "id": "25aeeb77",
   "metadata": {},
   "outputs": [
    {
     "data": {
      "text/plain": [
       "{'input': 'What is REST API?',\n",
       " 'context': [Document(id='103cfefa-b0ba-4e54-84cd-65bdbc2a108e', metadata={'source': 'https://testfully.io/blog/rest-api/'}, page_content='API Development: A 101 Guide to RESTful APIs Explore the comprehensive guide to RESTful APIs, covering definitions, examples, best practices, and FAQs for developers. Dive into the world of modern web development with our in-depth blog post.  RESTful APIs are a key component of web development, allowing for seamless interactions between web applications. They are a development of existing APIs, providing a simpler, more efficient web communication approach. RESTful APIs use HTTP methods (GET, POST, PUT, and DELETE) to perform resource operations, following the Representational State Transfer (REST) principles. This architectural style has become synonymous with modern web services, allowing for scalability, flexibility, and the efficient integration of diverse systems.'),\n",
       "  Document(id='73981ba1-772a-491d-a404-f2843e04e1f0', metadata={'source': 'https://testfully.io/blog/rest-api/'}, page_content='API Development: A 101 Guide to RESTful APIs Explore the comprehensive guide to RESTful APIs, covering definitions, examples, best practices, and FAQs for developers. Dive into the world of modern web development with our in-depth blog post.  RESTful APIs are a key component of web development, allowing for seamless interactions between web applications. They are a development of existing APIs, providing a simpler, more efficient web communication approach. RESTful APIs use HTTP methods (GET, POST, PUT, and DELETE) to perform resource operations, following the Representational State Transfer (REST) principles. This architectural style has become synonymous with modern web services, allowing for scalability, flexibility, and the efficient integration of diverse systems.'),\n",
       "  Document(id='f4e7de25-0831-475e-9629-49515d1e30cb', metadata={'source': 'https://testfully.io/blog/rest-api/'}, page_content='RESTful APIs are the foundation of modern web development, allowing for seamless integration and interaction of various web services. Their adaptability and efficiency make them ideal for various applications, including cloud services, mobile apps, and IoT devices. By adhering to REST principles and best practices in API development, you can build robust, scalable, and secure web services that meet the changing demands of users and enterprises alike.    Frequently Asked Questions We got an answer for your questions      What is a RESTful API? A RESTful API is an application programming interface that follows the Representational State Transfer (REST) principles. It enables interaction with RESTful web services using standard HTTP methods such as GET, POST, PUT, and DELETE.    Why are RESTful APIs important in web development? RESTful APIs are crucial because they provide a standardized way for applications to communicate over the web. They enable scalable, flexible, and efficient data'),\n",
       "  Document(id='0b798e6b-28f9-45cf-a246-070f98630c29', metadata={'source': 'https://testfully.io/blog/rest-api/'}, page_content='RESTful APIs are the foundation of modern web development, allowing for seamless integration and interaction of various web services. Their adaptability and efficiency make them ideal for various applications, including cloud services, mobile apps, and IoT devices. By adhering to REST principles and best practices in API development, you can build robust, scalable, and secure web services that meet the changing demands of users and enterprises alike.    Frequently Asked Questions We got an answer for your questions      What is a RESTful API? A RESTful API is an application programming interface that follows the Representational State Transfer (REST) principles. It enables interaction with RESTful web services using standard HTTP methods such as GET, POST, PUT, and DELETE.    Why are RESTful APIs important in web development? RESTful APIs are crucial because they provide a standardized way for applications to communicate over the web. They enable scalable, flexible, and efficient data')],\n",
       " 'answer': 'A RESTful API is an application programming interface that follows the Representational State Transfer (REST) principles. It enables interaction with RESTful web services using standard HTTP methods such as GET, POST, PUT, and DELETE.'}"
      ]
     },
     "execution_count": 23,
     "metadata": {},
     "output_type": "execute_result"
    }
   ],
   "source": [
    "response = rag_chain.invoke({\"input\": \"What is REST API?\"})\n",
    "response"
   ]
  },
  {
   "cell_type": "code",
   "execution_count": 24,
   "id": "0d29ca58",
   "metadata": {},
   "outputs": [
    {
     "data": {
      "text/plain": [
       "'A RESTful API is an application programming interface that follows the Representational State Transfer (REST) principles. It enables interaction with RESTful web services using standard HTTP methods such as GET, POST, PUT, and DELETE.'"
      ]
     },
     "execution_count": 24,
     "metadata": {},
     "output_type": "execute_result"
    }
   ],
   "source": [
    "response['answer']"
   ]
  },
  {
   "cell_type": "markdown",
   "id": "423ecfc4",
   "metadata": {},
   "source": [
    "### Adding Chat History\n",
    "\n",
    "- step 1: take user follow-up question and chat history\n",
    "- step 2: use LLM to rephrase it into a stand alone question\n",
    "- step 3: run this question through retriever\n",
    "- step 4: stuff these docs in the context\n",
    "- step 5: use LLM to get an answer"
   ]
  },
  {
   "cell_type": "code",
   "execution_count": null,
   "id": "dce17490",
   "metadata": {},
   "outputs": [],
   "source": [
    "from langchain.chains import create_history_aware_retriever\n",
    "from langchain_core.prompts import MessagesPlaceholder\n",
    "\n",
    "# rephrasing chain\n",
    "context_system_prompt = (\n",
    "    \"You are a helpful assistant. Given the chat history and a follow-up question which might\"\n",
    "    \"reference the context in the chat history, rephrase it into a standalone question\"\n",
    "    \"which could be understood without the chat history. DO NOT answer the question.\"\n",
    ")\n",
    "\n",
    "context_prompt = ChatPromptTemplate.from_messages([\n",
    "    (\"system\", context_system_prompt),\n",
    "    MessagesPlaceholder(\"chat_history\"),\n",
    "    (\"human\", \"{input}\"), ## create_history_aware_retriever is hard-coded to expect {input}\n",
    "]\n",
    ")"
   ]
  },
  {
   "cell_type": "code",
   "execution_count": 30,
   "id": "2ffe5da4",
   "metadata": {},
   "outputs": [],
   "source": [
    "history_aware_retriever = create_history_aware_retriever(\n",
    "    llm = llm,\n",
    "    retriever = retriever,\n",
    "    prompt = context_prompt\n",
    ")"
   ]
  },
  {
   "cell_type": "code",
   "execution_count": 32,
   "id": "e318e3a7",
   "metadata": {},
   "outputs": [],
   "source": [
    "##Prompt Template\n",
    "system_prompt = (\n",
    "    \"Act as an assistant for Question-Answering tasks.\"\n",
    "    \"Use the retrieved context to answer user's questions.\"\n",
    "    \"If you don't have enough context to answer, let the user know that you are not sure.\"\n",
    "    \"Use no more than three sentences while writing an answer.\"\n",
    "    \"\\n\\n\"\n",
    "    \"{context}\"\n",
    ")\n",
    "\n",
    "qa_prompt = ChatPromptTemplate.from_messages([\n",
    "    (\"system\", system_prompt),\n",
    "    MessagesPlaceholder(\"chat_history\"),\n",
    "    (\"human\", \"{input}\")\n",
    "]\n",
    ")"
   ]
  },
  {
   "cell_type": "code",
   "execution_count": 34,
   "id": "d7237a56",
   "metadata": {},
   "outputs": [],
   "source": [
    "qa_chain = create_stuff_documents_chain(prompt = qa_prompt, llm=llm)\n",
    "rag_chain = create_retrieval_chain(history_aware_retriever, qa_chain)"
   ]
  },
  {
   "cell_type": "code",
   "execution_count": null,
   "id": "5e744fc2",
   "metadata": {},
   "outputs": [],
   "source": [
    "# from langchain_core.messages import AIMessage, HumanMessage\n",
    "# chat_history = []\n",
    "# question = \"What is API?\"\n",
    "# response = rag_chain.invoke({\"input\": question, \"chat_history\":chat_history})\n",
    "\n",
    "# chat_history.extend(\n",
    "#     [\n",
    "#         HumanMessage(content=question),\n",
    "#         AIMessage(content=response[\"answer\"])\n",
    "#     ]\n",
    "# )"
   ]
  },
  {
   "cell_type": "code",
   "execution_count": 38,
   "id": "abef2a7e",
   "metadata": {},
   "outputs": [],
   "source": [
    "from langchain_community.chat_message_histories import ChatMessageHistory\n",
    "from langchain_core.chat_history import BaseChatMessageHistory\n",
    "from langchain_core.runnables.history import RunnableWithMessageHistory\n",
    "\n",
    "store = {}\n",
    "\n",
    "def get_session_history(session_id: str) -> BaseChatMessageHistory:\n",
    "    if session_id not in store:\n",
    "        store[session_id] = ChatMessageHistory()\n",
    "    return store[session_id]\n",
    "\n",
    "conversational_rag_chain = RunnableWithMessageHistory(\n",
    "    rag_chain,\n",
    "    get_session_history,\n",
    "    input_messages_key=\"input\",\n",
    "    history_messages_key=\"chat_history\",\n",
    "    output_messages_key= \"answer\"\n",
    ")"
   ]
  },
  {
   "cell_type": "code",
   "execution_count": 39,
   "id": "6d97480e",
   "metadata": {},
   "outputs": [
    {
     "data": {
      "text/plain": [
       "'An API stands for Application Programming Interface, which is a set of defined rules that enables different applications or systems to communicate with each other.'"
      ]
     },
     "execution_count": 39,
     "metadata": {},
     "output_type": "execute_result"
    }
   ],
   "source": [
    "config = {\n",
    "    \"configurable\": {\"session_id\": \"harshini123\"}\n",
    "    }\n",
    "\n",
    "conversational_rag_chain.invoke(\n",
    "    {\"input\": \"What is API?\"},\n",
    "    config = config,\n",
    ")[\"answer\"]\n"
   ]
  }
 ],
 "metadata": {
  "kernelspec": {
   "display_name": "venv",
   "language": "python",
   "name": "python3"
  },
  "language_info": {
   "codemirror_mode": {
    "name": "ipython",
    "version": 3
   },
   "file_extension": ".py",
   "mimetype": "text/x-python",
   "name": "python",
   "nbconvert_exporter": "python",
   "pygments_lexer": "ipython3",
   "version": "3.11.13"
  }
 },
 "nbformat": 4,
 "nbformat_minor": 5
}
